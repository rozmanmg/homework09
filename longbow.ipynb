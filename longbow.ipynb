{
 "cells": [
  {
   "cell_type": "markdown",
   "id": "1130fdf4-a064-4d39-95af-6047cf48e752",
   "metadata": {},
   "source": [
    "## Large deformations of a longbow"
   ]
  },
  {
   "cell_type": "markdown",
   "id": "81503706-7dd6-4e2e-9007-13cfa2429243",
   "metadata": {},
   "source": [
    "\n",
    "*Buckling instability* is a sudden change of the shape of a straight\n",
    "rod that is compressed longitudinally.  Buckling does not happen\n",
    "until the compressive forces on the road terminals exceed a certain\n",
    "threshold, called *buckling threshold*."
   ]
  },
  {
   "cell_type": "markdown",
   "id": "87699833-30d4-4a5f-a03c-712daba73ba3",
   "metadata": {},
   "source": [
    "\n",
    "For reference, the buckling threshold of a slender rod, first\n",
    "determined by Euler, is as follows\n",
    "\\begin{equation}\n",
    "    F_B = \\frac{\\pi^2 E I}{L^2}.\n",
    "\\end{equation}\n",
    "Here $L$ is the length of the rod, $E$ is the Young’s modulus of the\n",
    "rod material, and $I$ is the area moment of inertia of the cross\n",
    "section of the rod. "
   ]
  },
  {
   "cell_type": "markdown",
   "id": "111a9bd4-8b5d-467e-bd5c-c571f9564f4c",
   "metadata": {},
   "source": [
    " \n",
    "For a wooden walking stick of length $L = 1$ m and\n",
    "circular cross section of diameter $D = 2$ cm, with wood Young’s\n",
    "modulus $E = 10^{10}$ Pa, the buckling threshold is $F_B = 775$ N,\n",
    "corresponding to the weight of mass $m = 79$ kg."
   ]
  },
  {
   "cell_type": "markdown",
   "id": "41d9dc18-929e-46da-a76e-44e701b7423a",
   "metadata": {},
   "source": [
    "\n",
    "This homework assignment deals with large deformation of a stringed bow which\n",
    "may be viewed as a straight rod that has been brought beyond the\n",
    "buckling threshold and is kept in mechanical equilibrium by the\n",
    "tension in the bowstring. In this case, the deflection of the rod\n",
    "from its non-deformed equilibrium is not small compared to the\n",
    "dimension of the bow, but the strains in the material are still\n",
    "small as long as the radius of curvature of the bow is much larger\n",
    "than the transverse dimensions of the rod.  This permit us to use\n",
    "the linear elasticity theory to analyze large deflections of the bow."
   ]
  },
  {
   "cell_type": "markdown",
   "id": "0cff5af0-54e6-42f8-a58f-541db51952c4",
   "metadata": {},
   "source": [
    "The results of the analysis of large deflection of the\n",
    "bow are as follows:\n",
    "\n",
    "1. The deformation of the bow can be described by a single\n",
    "    parameter - the so called *opening angle*, $\\alpha$. \n",
    "    \n",
    "2. It is natural to measure the tension force in the bow string\n",
    "    in units of the buckling threshold,\n",
    "    \\begin{equation}\n",
    "      f(\\alpha) = \\frac{F}{F_B}.\n",
    "    \\end{equation}\n",
    "    \n",
    "3. The dimensionless tension in the string,\n",
    "    \\begin{equation}\n",
    "      f(\\alpha) = \\frac{1}{\\pi^2} I_1^2(\\alpha)\n",
    "    \\end{equation}\n",
    "    where\n",
    "    \\begin{equation}\n",
    "      I_1(\\alpha) = \\sqrt{2} \\int\\limits_0^{\\alpha}\n",
    "      \\frac{\\mathrm{d}x}{\\sqrt{\\cos(x) - \\cos(\\alpha)}}\n",
    "    \\end{equation}\n",
    "\n",
    "In the formulas above, $\\alpha$ (as well as $x$) is the angle in radians."
   ]
  },
  {
   "cell_type": "code",
   "execution_count": null,
   "id": "c8114503-7e7d-4985-9b17-f9431956430c",
   "metadata": {},
   "outputs": [],
   "source": [
    "\n",
    "using PyPlot\n",
    "using QuadGK"
   ]
  },
  {
   "cell_type": "markdown",
   "id": "3551c0cc-b506-4842-a1e1-40066b3ed8c0",
   "metadata": {},
   "source": [
    "The integral in the expression for $I_1(\\alpha)$ is written in a\n",
    "form that is not suitable for its numerical evaluations: the term\n",
    "$\\cos(x) - \\cos(\\alpha)$ would cause catastrophic cancellations in\n",
    "the denominators of the integrands when $x \\to \\alpha$.\n",
    "    "
   ]
  },
  {
   "cell_type": "markdown",
   "id": "791f594b-9d68-4046-8bc2-d43e549d353b",
   "metadata": {},
   "source": [
    "Indeed, let's try to evaluate the integral:"
   ]
  },
  {
   "cell_type": "code",
   "execution_count": null,
   "id": "d8809301-be48-4386-b8d3-1c6633f67879",
   "metadata": {},
   "outputs": [],
   "source": [
    "\n",
    "I1_bad(alpha) = sqrt(2.0) * quadgk(x -> 1.0/sqrt(cos(x) - cos(alpha)), 0.0, alpha)[1]\n",
    "\n",
    "f_bad(alpha) = (I1_bad(alpha) / pi)^2;"
   ]
  },
  {
   "cell_type": "code",
   "execution_count": null,
   "id": "b1b67510-242c-4b7a-a98b-34fa74fb6e7c",
   "metadata": {},
   "outputs": [],
   "source": [
    "\n",
    "np = 10                         # number of integral evaluations\n",
    "angs = range(5.0, 150.0, np)    # opening angles in degrees\n",
    "alps = angs/180*pi              # opening angles in radians"
   ]
  },
  {
   "cell_type": "code",
   "execution_count": null,
   "id": "20f43048-f2e7-4ec4-baaf-3d46eb539a81",
   "metadata": {},
   "outputs": [],
   "source": [
    "f_bad.(alps)  # <- this is going to crash"
   ]
  },
  {
   "cell_type": "markdown",
   "id": "97cbec11-a572-4c90-84e1-1d9f354d7ae5",
   "metadata": {},
   "source": [
    "One of the way to avoid the catastrophic cancellations, is to rewrite\n",
    "the integrand in a form that doesn't contain a subtraction of very\n",
    "close floating point values.\n",
    "    "
   ]
  },
  {
   "cell_type": "markdown",
   "id": "b7fa2d64-ef96-48d3-9075-770e0d6245be",
   "metadata": {},
   "source": [
    "Rewrite integral $I_1$, in a form free from\n",
    "catastrophic cancellations. Follow the hints provided in the problem statement."
   ]
  },
  {
   "cell_type": "markdown",
   "id": "f0606c22-4038-4e71-8e64-f9e1a024ff48",
   "metadata": {},
   "source": [
    "Write a Julia function, I1(alpha), that accept the\n",
    "value of the opening angle of the bow (in radians), and return the\n",
    "numerical value of the integral."
   ]
  },
  {
   "cell_type": "code",
   "execution_count": null,
   "id": "67609b94-5d9d-4667-8d1b-39a6e0fe9a14",
   "metadata": {},
   "outputs": [],
   "source": [
    "\n",
    "I1(alpha) = quadgk(, 0.0, alpha)[1]  # <- your code here \n",
    "\n",
    "f(alpha) = ()^2;   # <- your code here"
   ]
  },
  {
   "cell_type": "markdown",
   "id": "b28219bc-db6a-445b-963c-5854ce9ca6c5",
   "metadata": {},
   "source": [
    "Plot the graphs $f(\\alpha)$ for\n",
    "$5^{\\circ} \\le \\alpha \\le 150^{\\circ}$ (angle in degrees). Use at\n",
    "least 30 data points. \n",
    "Provide axes labels, grid, title for your graph."
   ]
  },
  {
   "cell_type": "code",
   "execution_count": null,
   "id": "adebc8ee-6088-400f-9184-92d2c2166d0c",
   "metadata": {},
   "outputs": [],
   "source": [
    "\n",
    "np = 30\n",
    "angles = range(5.0, 150.0, np)  # opening angles in degrees\n",
    "alphas = angles/180*pi          # opening angles in radians"
   ]
  },
  {
   "cell_type": "code",
   "execution_count": null,
   "id": "6b15b0bc-29d5-454c-b2ab-cf99ca25a9aa",
   "metadata": {},
   "outputs": [],
   "source": [
    "\n",
    "plot(angles, f.(alphas))\n",
    "# your code here"
   ]
  },
  {
   "cell_type": "markdown",
   "id": "b3c42f84-e19a-4ee4-9374-bc37b4b6741e",
   "metadata": {},
   "source": [
    "\n",
    "What is (approximately) the dimensionless tension in the bow string for the opening angle $100^{\\circ}$? What is the value of  string tension, in Newtons, for a bow made from the wooden stick that was discussed earlier?"
   ]
  },
  {
   "cell_type": "code",
   "execution_count": null,
   "id": "7b82aad2-e10b-4385-ae46-94053fb2b798",
   "metadata": {},
   "outputs": [],
   "source": []
  }
 ],
 "metadata": {
  "kernelspec": {
   "display_name": "Julia 1.10.6",
   "language": "julia",
   "name": "julia-1.10"
  },
  "language_info": {
   "file_extension": ".jl",
   "mimetype": "application/julia",
   "name": "julia",
   "version": "1.10.6"
  }
 },
 "nbformat": 4,
 "nbformat_minor": 5
}
